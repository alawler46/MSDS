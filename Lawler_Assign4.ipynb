{
 "cells": [
  {
   "cell_type": "code",
   "execution_count": 51,
   "id": "c6dba669-e259-407b-a764-e35c323ac16a",
   "metadata": {},
   "outputs": [
    {
     "name": "stdout",
     "output_type": "stream",
     "text": [
      "Defaulting to user installation because normal site-packages is not writeable\n",
      "Looking in links: /usr/share/pip-wheels\n",
      "Requirement already satisfied: fiona in /home/daf03834-2cd7-40ad-bc31-d3b51e4b5c9f/.local/lib/python3.11/site-packages (1.9.5)\n",
      "Requirement already satisfied: attrs>=19.2.0 in /opt/conda/envs/anaconda-panel-2023.05-py310/lib/python3.11/site-packages (from fiona) (22.1.0)\n",
      "Requirement already satisfied: certifi in /opt/conda/envs/anaconda-panel-2023.05-py310/lib/python3.11/site-packages (from fiona) (2023.7.22)\n",
      "Requirement already satisfied: click~=8.0 in /opt/conda/envs/anaconda-panel-2023.05-py310/lib/python3.11/site-packages (from fiona) (8.0.4)\n",
      "Requirement already satisfied: click-plugins>=1.0 in /home/daf03834-2cd7-40ad-bc31-d3b51e4b5c9f/.local/lib/python3.11/site-packages (from fiona) (1.1.1)\n",
      "Requirement already satisfied: cligj>=0.5 in /home/daf03834-2cd7-40ad-bc31-d3b51e4b5c9f/.local/lib/python3.11/site-packages (from fiona) (0.7.2)\n",
      "Requirement already satisfied: six in /opt/conda/envs/anaconda-panel-2023.05-py310/lib/python3.11/site-packages (from fiona) (1.16.0)\n",
      "Requirement already satisfied: setuptools in /opt/conda/envs/anaconda-panel-2023.05-py310/lib/python3.11/site-packages (from fiona) (68.0.0)\n"
     ]
    }
   ],
   "source": [
    "import geopandas as gpd\n",
    "!pip install fiona \n"
   ]
  },
  {
   "cell_type": "code",
   "execution_count": 63,
   "id": "41ea2bb7-2a87-4c0d-98c5-e9b1e9bcaeb7",
   "metadata": {},
   "outputs": [
    {
     "name": "stdout",
     "output_type": "stream",
     "text": [
      "Successfully extracted contents to Decision Analytics\n"
     ]
    }
   ],
   "source": [
    "import zipfile\n",
    "import os\n",
    "\n",
    "# Provide the path to your zip file\n",
    "zip_file_path = 'spatial-vector-lidar.zip'\n",
    "\n",
    "# Provide the directory where you want to extract the contents\n",
    "extracted_dir = 'Decision Analytics'\n",
    "\n",
    "# Create the extraction directory if it doesn't exist\n",
    "os.makedirs(extracted_dir, exist_ok=True)\n",
    "\n",
    "# Open the zip file and extract its contents\n",
    "with zipfile.ZipFile(zip_file_path, 'r') as zip_ref:\n",
    "    zip_ref.extractall(extracted_dir)\n",
    "\n",
    "# Display a message indicating successful extraction\n",
    "print(f\"Successfully extracted contents to {extracted_dir}\")"
   ]
  },
  {
   "cell_type": "code",
   "execution_count": 96,
   "id": "64c3016e-8ab0-40a0-ae17-946d8368e067",
   "metadata": {},
   "outputs": [
    {
     "name": "stdout",
     "output_type": "stream",
     "text": [
      "<class 'geopandas.geodataframe.GeoDataFrame'>\n",
      "RangeIndex: 18 entries, 0 to 17\n",
      "Data columns (total 6 columns):\n",
      " #   Column     Non-Null Count  Dtype   \n",
      "---  ------     --------------  -----   \n",
      " 0   Plot_ID    18 non-null     object  \n",
      " 1   Point      18 non-null     object  \n",
      " 2   northing   18 non-null     float64 \n",
      " 3   easting    18 non-null     float64 \n",
      " 4   plot_type  18 non-null     object  \n",
      " 5   geometry   18 non-null     geometry\n",
      "dtypes: float64(2), geometry(1), object(3)\n",
      "memory usage: 996.0+ bytes\n"
     ]
    }
   ],
   "source": [
    "# just checking to see if everything imported\n",
    "sjer_plot_locations = gpd.read_file('Decision Analytics/california/neon-sjer-site/vector_data/SJER_plot_centroids.shp')\n",
    "sjer_plot_locations.info()\n",
    "\n"
   ]
  },
  {
   "cell_type": "markdown",
   "id": "39277394-1810-4bce-bc45-6edc3d0e244f",
   "metadata": {},
   "source": [
    "**Random Attribute Change using Shapefile**"
   ]
  },
  {
   "cell_type": "code",
   "execution_count": 135,
   "id": "1fa9ad3c-20d1-48af-a426-aa924281bd0f",
   "metadata": {},
   "outputs": [],
   "source": [
    "import warnings\n",
    "\n",
    "# Suppress the specific warning\n",
    "warnings.filterwarnings(\"ignore\", category=UserWarning, message=\"Column names longer than 10 characters will be truncated when saved to ESRI Shapefile.\")"
   ]
  },
  {
   "cell_type": "code",
   "execution_count": 166,
   "id": "e5a005a4-0849-444a-831d-817a150affd1",
   "metadata": {},
   "outputs": [
    {
     "name": "stdout",
     "output_type": "stream",
     "text": [
      "Average Writing Time with Random Attribute Changes: 0.047073736429214474 seconds\n"
     ]
    }
   ],
   "source": [
    "import time\n",
    "import random\n",
    "\n",
    "\n",
    "shapefile_path = 'Decision Analytics/california/neon-sjer-site/vector_data/SJER_plot_centroids.shp'\n",
    "\n",
    "gdf = gpd.read_file(shapefile_path)\n",
    "\n",
    "# Define the number of Monte Carlo simulation iterations\n",
    "simulation_iterations = 1000\n",
    "\n",
    "# Perform Monte Carlo simulation for writing with random attribute changes\n",
    "total_elapsed_time = 0\n",
    "\n",
    "for _ in range(simulation_iterations):\n",
    "    simulated_gdf = gdf.copy()\n",
    "\n",
    "    # Simulate a random attribute change\n",
    "    random_row_index = random.choice(simulated_gdf.index)\n",
    "    random_attribute = 'SJER_plot_centroids'\n",
    "    simulated_gdf.at[random_row_index, random_attribute] = random.uniform(0, 100)\n",
    "\n",
    "    # Measure the time it takes to write the simulated GeoDataFrame to a new file\n",
    "    start_time = time.time()\n",
    "    simulated_gdf.to_file('Simulation 1/new.shp', driver='ESRI Shapefile')\n",
    "    elapsed_time = time.time() - start_time\n",
    "\n",
    "    # Accumulate the elapsed time for each iteration\n",
    "    total_elapsed_time += elapsed_time\n",
    "\n",
    "# Calculate the average time taken over all iterations\n",
    "average_elapsed_time = total_elapsed_time / simulation_iterations\n",
    "\n",
    "# Display the average writing time\n",
    "print(f\"Average Writing Time with Random Attribute Changes: {average_elapsed_time} seconds\")\n",
    "\n"
   ]
  },
  {
   "cell_type": "markdown",
   "id": "2e4cc1fc-600c-4fac-bc21-484b5936adea",
   "metadata": {},
   "source": [
    "**Random Attribute Changes using GeoJSON**"
   ]
  },
  {
   "cell_type": "code",
   "execution_count": 164,
   "id": "b1641a2a-c8b4-42ff-b7fb-4fec995f70a6",
   "metadata": {},
   "outputs": [],
   "source": [
    "#Converting to GeoJson \n",
    "\n",
    "shapefile_path = 'Decision Analytics/california/neon-sjer-site/vector_data/SJER_plot_centroids.shp'\n",
    "gdf = gpd.read_file(shapefile_path)\n",
    "\n",
    "# Provide the path for the output GeoJSON file\n",
    "geojson_output_path = 'Simulation1geoj.geojson'\n",
    "\n",
    "# Save the GeoDataFrame to GeoJSON\n",
    "gdf.to_file(geojson_output_path, driver='GeoJSON')"
   ]
  },
  {
   "cell_type": "code",
   "execution_count": 177,
   "id": "b09b2943-bbdd-4e33-976d-a064023e9caf",
   "metadata": {},
   "outputs": [
    {
     "name": "stdout",
     "output_type": "stream",
     "text": [
      "Average Writing Time with Random Attribute Changes: 0.04359104943275452 seconds\n"
     ]
    }
   ],
   "source": [
    "import fiona\n",
    "import geopandas as gpd\n",
    "from shapely.geometry import Point\n",
    "import time\n",
    "import random\n",
    "\n",
    "# Provide the path to your GeoJSON file\n",
    "geojson_path = 'Simulation1geoj.geojson'\n",
    "\n",
    "# Read the GeoJSON file into a GeoDataFrame\n",
    "gdf = gpd.read_file(geojson_path)\n",
    "\n",
    "# Define the number of Monte Carlo simulation iterations\n",
    "simulation_iterations = 1000\n",
    "\n",
    "# Perform Monte Carlo simulation for writing with random attribute changes\n",
    "total_elapsed_time = 0\n",
    "\n",
    "for i in range(1, simulation_iterations + 1):\n",
    "    # Create a copy of the original GeoDataFrame for simulation\n",
    "    simulated_gdf = gdf.copy()\n",
    "\n",
    "    # Simulate a random attribute change\n",
    "    random_row_index = random.randint(0, len(simulated_gdf) - 1)\n",
    "    random_attribute = 'SJER_plot_centroids'\n",
    "    simulated_gdf.at[random_row_index, random_attribute] = random.uniform(0, 100)\n",
    "\n",
    "    # Measure the time it takes to write the simulated GeoDataFrame to a new file\n",
    "    start_time = time.time()\n",
    "\n",
    "    # Convert the GeoDataFrame to a shapefile using Fiona\n",
    "    schema = {\n",
    "        'geometry': 'Point',\n",
    "        'properties': {random_attribute: 'float'}\n",
    "    }\n",
    "\n",
    "    with fiona.open('Simulation 1/new_fileF.shp', 'w', 'ESRI Shapefile', schema, gdf.crs) as output:\n",
    "        for _, row in simulated_gdf.iterrows():\n",
    "            point = Point(row['geometry'].x, row['geometry'].y)\n",
    "            output.write({'geometry': mapping(point), 'properties': {random_attribute: row[random_attribute]}})\n",
    "\n",
    "    elapsed_time = time.time() - start_time\n",
    "\n",
    "    # Accumulate the elapsed time for each iteration\n",
    "    total_elapsed_time += elapsed_time\n",
    "\n",
    "# Calculate the average time taken over all iterations\n",
    "average_elapsed_time = total_elapsed_time / simulation_iterations\n",
    "\n",
    "# Display the average writing time\n",
    "print(f\"Average Writing Time with Random Attribute Changes: {average_elapsed_time} seconds\")\n"
   ]
  },
  {
   "cell_type": "markdown",
   "id": "5698f006-345e-4ab7-8cf5-b734f8603a7e",
   "metadata": {},
   "source": [
    "**Random Attribute Changes using GeoPackage**"
   ]
  },
  {
   "cell_type": "code",
   "execution_count": 184,
   "id": "3d1331b5-20c0-4f5f-9840-e804795c90af",
   "metadata": {},
   "outputs": [],
   "source": [
    "#Converting GeoJSON to GeoPackage\n",
    "\n",
    "# Paths to your GeoJSON and GeoPackage files\n",
    "geojson_path = 'Simulation1geoj.geojson'\n",
    "geopackage_path = 'Simulation 1/new_fileP.gpkg'\n",
    "\n",
    "# Open the GeoJSON file for reading\n",
    "with fiona.open(geojson_path, 'r') as src:\n",
    "    # Get the schema (including geometry type) from the GeoJSON file\n",
    "    schema = src.schema\n",
    "    # Open the GeoPackage file for writing, specifying the schema\n",
    "    with fiona.open(geopackage_path, 'w', driver='GPKG', crs=src.crs, schema=schema) as dst:\n",
    "        # Iterate through features in the GeoJSON file and write them to the GeoPackage file\n",
    "        for feature in src:\n",
    "            dst.write(feature)"
   ]
  },
  {
   "cell_type": "code",
   "execution_count": 188,
   "id": "1f48e4ad-0514-4275-9fe4-8e164f64e5aa",
   "metadata": {},
   "outputs": [
    {
     "name": "stdout",
     "output_type": "stream",
     "text": [
      "Average Writing Time with Random Attribute Changes: 0.20252396273612977 seconds\n"
     ]
    }
   ],
   "source": [
    "import numpy as np\n",
    "\n",
    "# Paths to your GeoPackage files\n",
    "geopackage_input_path = 'Simulation 1/new_fileP.gpkg'\n",
    "geopackage_output_path = 'Simulation 1/new_output.gpkg'\n",
    "\n",
    "# Read the GeoPackage file into a GeoDataFrame\n",
    "gdf = gpd.read_file(geopackage_input_path)\n",
    "\n",
    "# Define the number of Monte Carlo simulation iterations\n",
    "simulation_iterations = 1000\n",
    "\n",
    "# Perform Monte Carlo simulation for writing with random attribute changes\n",
    "total_elapsed_time = 0\n",
    "\n",
    "for i in range(simulation_iterations):\n",
    "    # Create a copy of the original GeoDataFrame for simulation\n",
    "    simulated_gdf = gdf.copy()\n",
    "\n",
    "    # Simulate a random attribute change\n",
    "    random_row_index = np.random.choice(simulated_gdf.index)\n",
    "    random_attribute = 'SJER_plot_centroids'\n",
    "    simulated_gdf.loc[random_row_index, random_attribute] = np.random.uniform(0, 100)\n",
    "\n",
    "    # Measure the time it takes to write the simulated GeoDataFrame to a new file\n",
    "    start_time = time.time()\n",
    "    simulated_gdf.to_file(geopackage_output_path, driver='GPKG')\n",
    "    elapsed_time = time.time() - start_time\n",
    "\n",
    "    # Accumulate the elapsed time for each iteration\n",
    "    total_elapsed_time += elapsed_time\n",
    "\n",
    "# Calculate the average time taken over all iterations\n",
    "average_elapsed_time = total_elapsed_time / simulation_iterations\n",
    "\n",
    "# Display the average writing time\n",
    "print(f\"Average Writing Time with Random Attribute Changes: {average_elapsed_time} seconds\")\n"
   ]
  },
  {
   "cell_type": "markdown",
   "id": "f78d9e0e-d6ed-4620-a143-95bc493ccbd4",
   "metadata": {},
   "source": [
    "**Buffering using Shapefile**"
   ]
  },
  {
   "cell_type": "code",
   "execution_count": 196,
   "id": "1988c8f9-fb01-4236-ab08-ceaca81c347b",
   "metadata": {},
   "outputs": [
    {
     "name": "stdout",
     "output_type": "stream",
     "text": [
      "Average Buffering Time with Random Distances: 0.37639755868911745 seconds\n"
     ]
    }
   ],
   "source": [
    "# Path to your shapefile\n",
    "shapefile_path = 'Decision Analytics/california/CA_Counties/CA_Counties_TIGER2016.shp'\n",
    "\n",
    "# Read the shapefile into a GeoDataFrame\n",
    "gdf = gpd.read_file(shapefile_path)\n",
    "\n",
    "# Define the number of Monte Carlo simulation iterations\n",
    "simulation_iterations = 1000\n",
    "\n",
    "# Perform Monte Carlo simulation for buffering with random distances\n",
    "total_elapsed_time = 0\n",
    "\n",
    "for i in range(simulation_iterations):\n",
    "    # Create a copy of the original GeoDataFrame for simulation\n",
    "    simulated_gdf = gdf.copy()\n",
    "\n",
    "    # Simulate a random buffer distance for each feature\n",
    "    simulated_gdf['buffer_distance'] = np.random.uniform(50, 200, len(simulated_gdf))\n",
    "\n",
    "    # Measure the time it takes to create buffered geometries with random distances\n",
    "    start_time = time.time()\n",
    "    simulated_gdf['buffered_geometry'] = simulated_gdf.apply(lambda row: row['geometry'].buffer(row['buffer_distance']), axis=1)\n",
    "    elapsed_time = time.time() - start_time\n",
    "\n",
    "    # Accumulate the elapsed time for each iteration\n",
    "    total_elapsed_time += elapsed_time\n",
    "\n",
    "# Calculate the average time taken over all iterations\n",
    "average_elapsed_time = total_elapsed_time / simulation_iterations\n",
    "\n",
    "# Display the average buffering time\n",
    "print(f\"Average Buffering Time with Random Distances: {average_elapsed_time} seconds\")\n"
   ]
  },
  {
   "cell_type": "markdown",
   "id": "1872ab76-0f1e-4a10-957a-61e93225d6cd",
   "metadata": {},
   "source": [
    "**Buffering using GeoJSON**"
   ]
  },
  {
   "cell_type": "code",
   "execution_count": 199,
   "id": "19f80ee6-b153-4350-9fb8-972e1a24d5d6",
   "metadata": {},
   "outputs": [],
   "source": [
    "#Converting to GeoJson \n",
    "\n",
    "shapefile_path = 'Decision Analytics/california/CA_Counties/CA_Counties_TIGER2016.shp'\n",
    "gdf = gpd.read_file(shapefile_path)\n",
    "\n",
    "geojson_output_path = 'Simulation2geoj.geojson'\n",
    "\n",
    "gdf.to_file(geojson_output_path, driver='GeoJSON')"
   ]
  },
  {
   "cell_type": "code",
   "execution_count": 203,
   "id": "e0753567-b517-46cc-8fce-3114752e89fc",
   "metadata": {},
   "outputs": [
    {
     "name": "stdout",
     "output_type": "stream",
     "text": [
      "Average Buffering Time with Random Distances: 0.383662682056427 seconds\n"
     ]
    }
   ],
   "source": [
    "\n",
    "geojson_path = 'Simulation2geoj.geojson'\n",
    "\n",
    "# Read the GeoJSON file into a GeoDataFrame\n",
    "gdf = gpd.read_file(geojson_path)\n",
    "\n",
    "# Define the number of Monte Carlo simulation iterations\n",
    "simulation_iterations = 1000\n",
    "\n",
    "# Perform Monte Carlo simulation for buffering with random distances\n",
    "total_elapsed_time = 0\n",
    "\n",
    "for i in range(simulation_iterations):\n",
    "    # Create a copy of the original GeoDataFrame for simulation\n",
    "    simulated_gdf = gdf.copy()\n",
    "\n",
    "    # Simulate a random buffer distance for each feature\n",
    "    simulated_gdf['buffer_distance'] = np.random.uniform(50, 200, len(simulated_gdf))\n",
    "\n",
    "    # Measure the time it takes to create buffered geometries with random distances\n",
    "    start_time = time.time()\n",
    "    simulated_gdf['buffered_geometry'] = simulated_gdf.apply(lambda row: row['geometry'].buffer(row['buffer_distance']), axis=1)\n",
    "    elapsed_time = time.time() - start_time\n",
    "\n",
    "    # Accumulate the elapsed time for each iteration\n",
    "    total_elapsed_time += elapsed_time\n",
    "\n",
    "# Calculate the average time taken over all iterations\n",
    "average_elapsed_time = total_elapsed_time / simulation_iterations\n",
    "\n",
    "# Display the average buffering time\n",
    "print(f\"Average Buffering Time with Random Distances: {average_elapsed_time} seconds\")\n"
   ]
  },
  {
   "cell_type": "markdown",
   "id": "97353b84-6e7e-4b9b-9daa-dff8aefc0b72",
   "metadata": {},
   "source": [
    "**Buffering using GeoPackage**"
   ]
  },
  {
   "cell_type": "code",
   "execution_count": 206,
   "id": "421010db-bbf0-4a99-8749-fbb084344c50",
   "metadata": {},
   "outputs": [],
   "source": [
    "#Converting to GeoPackage\n",
    "\n",
    "geojson_path = 'Simulation2geoj.geojson'\n",
    "geopackage_path = 'Simulation 2/new_fileP.gpkg'\n",
    "\n",
    "with fiona.open(geojson_path, 'r') as src:\n",
    "    # Get the schema (including geometry type) from the GeoJSON file\n",
    "    schema = src.schema\n",
    "    # Open the GeoPackage file for writing, specifying the schema\n",
    "    with fiona.open(geopackage_path, 'w', driver='GPKG', crs=src.crs, schema=schema) as dst:\n",
    "        # Iterate through features in the GeoJSON file and write them to the GeoPackage file\n",
    "        for feature in src:\n",
    "            dst.write(feature)"
   ]
  },
  {
   "cell_type": "code",
   "execution_count": 208,
   "id": "6a55cfc8-31ee-4d25-8e83-e3ab46d26d8e",
   "metadata": {},
   "outputs": [
    {
     "name": "stdout",
     "output_type": "stream",
     "text": [
      "Average Buffering Time with Random Distances: 0.3801724536418915 seconds\n"
     ]
    }
   ],
   "source": [
    "\n",
    "geopackage_path = 'Simulation 2/new_fileP.gpkg'\n",
    "gdf = gpd.read_file(geopackage_path)\n",
    "simulation_iterations = 1000\n",
    "\n",
    "# Perform Monte Carlo simulation for buffering with random distances\n",
    "total_elapsed_time = 0\n",
    "\n",
    "for i in range(simulation_iterations):\n",
    "    # Create a copy of the original GeoDataFrame for simulation\n",
    "    simulated_gdf = gdf.copy()\n",
    "\n",
    "    # Simulate a random buffer distance for each feature\n",
    "    simulated_gdf['buffer_distance'] = np.random.uniform(50, 200, len(simulated_gdf))\n",
    "\n",
    "    # Measure the time it takes to create buffered geometries with random distances\n",
    "    start_time = time.time()\n",
    "    simulated_gdf['buffered_geometry'] = simulated_gdf.apply(lambda row: row['geometry'].buffer(row['buffer_distance']), axis=1)\n",
    "    elapsed_time = time.time() - start_time\n",
    "\n",
    "    # Accumulate the elapsed time for each iteration\n",
    "    total_elapsed_time += elapsed_time\n",
    "\n",
    "# Calculate the average time taken over all iterations\n",
    "average_elapsed_time = total_elapsed_time / simulation_iterations\n",
    "\n",
    "# Display the average buffering time\n",
    "print(f\"Average Buffering Time with Random Distances: {average_elapsed_time} seconds\")\n"
   ]
  },
  {
   "cell_type": "markdown",
   "id": "75dc2941-d3d5-4adc-900b-8bf709a8f4fd",
   "metadata": {},
   "source": [
    "**Simplifying using Shapefile**"
   ]
  },
  {
   "cell_type": "code",
   "execution_count": 215,
   "id": "49f9ca21-2bb7-4bd8-92e9-a27bc9fcdac8",
   "metadata": {},
   "outputs": [
    {
     "name": "stdout",
     "output_type": "stream",
     "text": [
      "Average Simplification Time with Random Tolerances for Shapefiles: 0.0007437136173248291 seconds\n"
     ]
    }
   ],
   "source": [
    "shapefile_path = 'Decision Analytics/california/neon-sjer-site/vector_data/SJER_crop.shp'\n",
    "gdf = gpd.read_file(shapefile_path)\n",
    "simulation_iterations = 1000\n",
    "\n",
    "# Perform Monte Carlo simulation for geometry simplification\n",
    "total_elapsed_time = 0\n",
    "\n",
    "for i in range(simulation_iterations):\n",
    "    # Create a copy of the original GeoDataFrame for simulation\n",
    "    simulated_gdf = gdf.copy()\n",
    "\n",
    "    # Simulate a random tolerance for geometry simplification\n",
    "    simulated_gdf['simplify_tolerance'] = np.random.uniform(0.001, 0.1, len(simulated_gdf))\n",
    "\n",
    "    # Measure the time it takes to simplify geometries with random tolerances\n",
    "    start_time = time.time()\n",
    "    simulated_gdf['simplified_geometry'] = simulated_gdf.apply(lambda row: row['geometry'].simplify(row['simplify_tolerance']), axis=1)\n",
    "    elapsed_time = time.time() - start_time\n",
    "\n",
    "    # Accumulate the elapsed time for each iteration\n",
    "    total_elapsed_time += elapsed_time\n",
    "\n",
    "# Calculate the average time taken over all iterations\n",
    "average_elapsed_time = total_elapsed_time / simulation_iterations\n",
    "\n",
    "# Display the average simplification time\n",
    "print(f\"Average Simplification Time with Random Tolerances for Shapefiles: {average_elapsed_time} seconds\")\n"
   ]
  },
  {
   "cell_type": "markdown",
   "id": "76676a69-0e37-4a7f-94c7-e7487d5b1db8",
   "metadata": {},
   "source": [
    "**Simplifying using GeoJSON**"
   ]
  },
  {
   "cell_type": "code",
   "execution_count": 220,
   "id": "d5258fe6-ebde-4d05-b1cf-f20ae809900d",
   "metadata": {},
   "outputs": [],
   "source": [
    "#Converting to GeoJson \n",
    "\n",
    "shapefile_path = 'Decision Analytics/california/neon-sjer-site/vector_data/SJER_crop.shp'\n",
    "gdf = gpd.read_file(shapefile_path)\n",
    "\n",
    "geojson_output_path = 'Simulation3geoj.geojson'\n",
    "\n",
    "gdf.to_file(geojson_output_path, driver='GeoJSON')"
   ]
  },
  {
   "cell_type": "code",
   "execution_count": 222,
   "id": "1a5bd6c3-9f2f-49ac-b8ff-2d4a12734739",
   "metadata": {},
   "outputs": [
    {
     "name": "stdout",
     "output_type": "stream",
     "text": [
      "Average Simplification Time with Random Tolerances using GeoJSON: 0.0007203111648559571 seconds\n"
     ]
    }
   ],
   "source": [
    "geojson_path = 'Simulation3geoj.geojson'\n",
    "gdf = gpd.read_file(geojson_path)\n",
    "simulation_iterations = 1000\n",
    "total_elapsed_time = 0\n",
    "\n",
    "for i in range(simulation_iterations):\n",
    "    simulated_gdf = gdf.copy()\n",
    "\n",
    "    \n",
    "    simulated_gdf['simplify_tolerance'] = np.random.uniform(0.001, 0.1, len(simulated_gdf))\n",
    "\n",
    "    # Measure the time it takes to simplify geometries with random tolerances\n",
    "    start_time = time.time()\n",
    "    simulated_gdf['simplified_geometry'] = simulated_gdf.apply(lambda row: row['geometry'].simplify(row['simplify_tolerance']), axis=1)\n",
    "    elapsed_time = time.time() - start_time\n",
    "\n",
    "    # Accumulate the elapsed time for each iteration\n",
    "    total_elapsed_time += elapsed_time\n",
    "\n",
    "# Calculate the average time taken over all iterations\n",
    "average_elapsed_time = total_elapsed_time / simulation_iterations\n",
    "\n",
    "# Display the average simplification time\n",
    "print(f\"Average Simplification Time with Random Tolerances using GeoJSON: {average_elapsed_time} seconds\")\n"
   ]
  },
  {
   "cell_type": "markdown",
   "id": "787517ca-c8ee-47bd-a277-22b8b2532f35",
   "metadata": {},
   "source": [
    "**Simplifying using GeoPackage**"
   ]
  },
  {
   "cell_type": "code",
   "execution_count": 227,
   "id": "5217994f-c3a3-4c39-b71e-5c7a2af927da",
   "metadata": {},
   "outputs": [],
   "source": [
    "#Converting to GeoPackage\n",
    "\n",
    "geojson_path = 'Simulation3geoj.geojson'\n",
    "geopackage_path = 'Simulation 3/new_fileP.gpkg'\n",
    "\n",
    "with fiona.open(geojson_path, 'r') as src:\n",
    "    # Get the schema (including geometry type) from the GeoJSON file\n",
    "    schema = src.schema\n",
    "    # Open the GeoPackage file for writing, specifying the schema\n",
    "    with fiona.open(geopackage_path, 'w', driver='GPKG', crs=src.crs, schema=schema) as dst:\n",
    "        # Iterate through features in the GeoJSON file and write them to the GeoPackage file\n",
    "        for feature in src:\n",
    "            dst.write(feature)"
   ]
  },
  {
   "cell_type": "code",
   "execution_count": 231,
   "id": "33ef82ad-2c5d-4c48-8234-7101117089bb",
   "metadata": {},
   "outputs": [
    {
     "name": "stdout",
     "output_type": "stream",
     "text": [
      "Average Simplification Time with Random Tolerances: 0.0007249534130096436 seconds\n"
     ]
    }
   ],
   "source": [
    "# Path to your GeoPackage file\n",
    "geopackage_path = 'Simulation 3/new_fileP.gpkg'\n",
    "gdf = gpd.read_file(geopackage_path)\n",
    "simulation_iterations = 1000\n",
    "total_elapsed_time = 0\n",
    "\n",
    "for i in range(simulation_iterations):\n",
    "    # Create a copy of the original GeoDataFrame for simulation\n",
    "    simulated_gdf = gdf.copy()\n",
    "\n",
    "    # Simulate a random tolerance for geometry simplification\n",
    "    simulated_gdf['simplify_tolerance'] = np.random.uniform(0.001, 0.1, len(simulated_gdf))\n",
    "\n",
    "    # Measure the time it takes to simplify geometries with random tolerances\n",
    "    start_time = time.time()\n",
    "    simulated_gdf['simplified_geometry'] = simulated_gdf.apply(lambda row: row['geometry'].simplify(row['simplify_tolerance']), axis=1)\n",
    "    elapsed_time = time.time() - start_time\n",
    "\n",
    "    # Accumulate the elapsed time for each iteration\n",
    "    total_elapsed_time += elapsed_time\n",
    "\n",
    "# Calculate the average time taken over all iterations\n",
    "average_elapsed_time = total_elapsed_time / simulation_iterations\n",
    "\n",
    "# Display the average simplification time\n",
    "print(f\"Average Simplification Time with Random Tolerances: {average_elapsed_time} seconds\")\n"
   ]
  },
  {
   "cell_type": "markdown",
   "id": "a8ded774-6373-4c43-994a-4a1e6320ed79",
   "metadata": {},
   "source": [
    "**Spatial Indexing with Shapefile**"
   ]
  },
  {
   "cell_type": "code",
   "execution_count": 235,
   "id": "262250cd-f9c8-4733-bbd6-701efe089e8d",
   "metadata": {},
   "outputs": [
    {
     "name": "stdout",
     "output_type": "stream",
     "text": [
      "Average Spatial Query Time with Spatial Indexing: 0.0009335739612579346 seconds\n",
      "Average Spatial Query Time without Spatial Indexing: 0.0010215349197387695 seconds\n"
     ]
    }
   ],
   "source": [
    "shapefile_path = 'Decision Analytics/california/neon-sjer-site/vector_data/SJER_crop2.shp'\n",
    "gdf = gpd.read_file(shapefile_path)\n",
    "gdf_spatial_index = gdf.sindex\n",
    "\n",
    "simulation_iterations = 1000\n",
    "\n",
    "total_elapsed_time_with_index = 0\n",
    "total_elapsed_time_without_index = 0\n",
    "\n",
    "for i in range(simulation_iterations):\n",
    "    # Simulate a random bounding box for the spatial query\n",
    "    bounding_box = gdf.total_bounds + np.random.uniform(-1, 1, 4)\n",
    "\n",
    "    # Measure the time it takes to perform a spatial query with spatial indexing\n",
    "    start_time_with_index = time.time()\n",
    "    result_with_index = gdf.iloc[list(gdf_spatial_index.intersection(bounding_box))]\n",
    "    elapsed_time_with_index = time.time() - start_time_with_index\n",
    "    total_elapsed_time_with_index += elapsed_time_with_index\n",
    "\n",
    "    # Measure the time it takes to perform a spatial query without spatial indexing\n",
    "    start_time_without_index = time.time()\n",
    "    result_without_index = gdf.cx[bounding_box[0]:bounding_box[2], bounding_box[1]:bounding_box[3]]\n",
    "    elapsed_time_without_index = time.time() - start_time_without_index\n",
    "    total_elapsed_time_without_index += elapsed_time_without_index\n",
    "\n",
    "# Calculate the average time taken over all iterations for both cases\n",
    "average_elapsed_time_with_index = total_elapsed_time_with_index / simulation_iterations\n",
    "average_elapsed_time_without_index = total_elapsed_time_without_index / simulation_iterations\n",
    "\n",
    "# Display the average spatial query times\n",
    "print(f\"Average Spatial Query Time with Spatial Indexing: {average_elapsed_time_with_index} seconds\")\n",
    "print(f\"Average Spatial Query Time without Spatial Indexing: {average_elapsed_time_without_index} seconds\")\n"
   ]
  },
  {
   "cell_type": "markdown",
   "id": "da472f7d-24f0-48f8-9862-b5905c589bd6",
   "metadata": {},
   "source": [
    "**Spatial Indexing with GeoJSON**"
   ]
  },
  {
   "cell_type": "code",
   "execution_count": 238,
   "id": "ee919539-5d05-4a2f-8baf-6706a95407ac",
   "metadata": {},
   "outputs": [],
   "source": [
    "shapefile_path = 'Decision Analytics/california/neon-sjer-site/vector_data/SJER_crop2.shp'\n",
    "gdf = gpd.read_file(shapefile_path)\n",
    "\n",
    "geojson_output_path = 'Simulation4geoj.geojson'\n",
    "\n",
    "gdf.to_file(geojson_output_path, driver='GeoJSON')"
   ]
  },
  {
   "cell_type": "code",
   "execution_count": 242,
   "id": "5b4e37ae-c430-4f78-a417-2c1e5fabf5f8",
   "metadata": {},
   "outputs": [
    {
     "name": "stdout",
     "output_type": "stream",
     "text": [
      "Average Spatial Query Time with Spatial Indexing: 0.0009503364562988281 seconds\n",
      "Average Spatial Query Time without Spatial Indexing: 0.0010596432685852052 seconds\n"
     ]
    }
   ],
   "source": [
    "geojson_path = 'Simulation4geoj.geojson'\n",
    "gdf = gpd.read_file(geojson_path)\n",
    "simulation_iterations = 1000\n",
    "total_elapsed_time_with_index = 0\n",
    "total_elapsed_time_without_index = 0\n",
    "\n",
    "for i in range(simulation_iterations):\n",
    "    # Simulate a random bounding box for the spatial query\n",
    "    bounding_box = gdf.total_bounds + np.random.uniform(-1, 1, 4)\n",
    "\n",
    "    # Measure the time it takes to perform a spatial query with spatial indexing\n",
    "    start_time_with_index = time.time()\n",
    "    result_with_index = gdf.iloc[list(gdf_spatial_index.intersection(bounding_box))]\n",
    "    elapsed_time_with_index = time.time() - start_time_with_index\n",
    "    total_elapsed_time_with_index += elapsed_time_with_index\n",
    "\n",
    "    # Measure the time it takes to perform a spatial query without spatial indexing\n",
    "    start_time_without_index = time.time()\n",
    "    result_without_index = gdf.cx[bounding_box[0]:bounding_box[2], bounding_box[1]:bounding_box[3]]\n",
    "    elapsed_time_without_index = time.time() - start_time_without_index\n",
    "    total_elapsed_time_without_index += elapsed_time_without_index\n",
    "\n",
    "# Calculate the average time taken over all iterations for both cases\n",
    "average_elapsed_time_with_index = total_elapsed_time_with_index / simulation_iterations\n",
    "average_elapsed_time_without_index = total_elapsed_time_without_index / simulation_iterations\n",
    "\n",
    "# Display the average spatial query times\n",
    "print(f\"Average Spatial Query Time with Spatial Indexing: {average_elapsed_time_with_index} seconds\")\n",
    "print(f\"Average Spatial Query Time without Spatial Indexing: {average_elapsed_time_without_index} seconds\")\n"
   ]
  },
  {
   "cell_type": "markdown",
   "id": "fe12beaa-b472-4073-a8c4-35885de576fb",
   "metadata": {},
   "source": [
    "**Spatial Indexing with GeoPackage**"
   ]
  },
  {
   "cell_type": "code",
   "execution_count": 240,
   "id": "a4fb7890-182b-4748-ad9e-b42edf28ab67",
   "metadata": {},
   "outputs": [],
   "source": [
    "#Converting to GeoPackage\n",
    "\n",
    "geojson_path = 'Simulation4geoj.geojson'\n",
    "geopackage_path = 'Simulation 4/new_fileP.gpkg'\n",
    "\n",
    "with fiona.open(geojson_path, 'r') as src:\n",
    "    # Get the schema (including geometry type) from the GeoJSON file\n",
    "    schema = src.schema\n",
    "    # Open the GeoPackage file for writing, specifying the schema\n",
    "    with fiona.open(geopackage_path, 'w', driver='GPKG', crs=src.crs, schema=schema) as dst:\n",
    "        # Iterate through features in the GeoJSON file and write them to the GeoPackage file\n",
    "        for feature in src:\n",
    "            dst.write(feature)"
   ]
  },
  {
   "cell_type": "code",
   "execution_count": 244,
   "id": "857e9600-0e9c-4a5e-841c-53a7dafc7812",
   "metadata": {},
   "outputs": [
    {
     "name": "stdout",
     "output_type": "stream",
     "text": [
      "Average Spatial Query Time with Spatial Indexing: 0.0009242053031921387 seconds\n",
      "Average Spatial Query Time without Spatial Indexing: 0.0010137207508087158 seconds\n"
     ]
    }
   ],
   "source": [
    "geopackage_path = 'Simulation 4/new_fileP.gpkg'\n",
    "gdf = gpd.read_file(geopackage_path)\n",
    "simulation_iterations = 1000\n",
    "total_elapsed_time_with_index = 0\n",
    "total_elapsed_time_without_index = 0\n",
    "\n",
    "for i in range(simulation_iterations):\n",
    "    # Simulate a random bounding box for the spatial query\n",
    "    bounding_box = gdf.total_bounds + np.random.uniform(-1, 1, 4)\n",
    "\n",
    "    # Measure the time it takes to perform a spatial query with spatial indexing\n",
    "    start_time_with_index = time.time()\n",
    "    result_with_index = gdf.iloc[list(gdf_spatial_index.intersection(bounding_box))]\n",
    "    elapsed_time_with_index = time.time() - start_time_with_index\n",
    "    total_elapsed_time_with_index += elapsed_time_with_index\n",
    "\n",
    "    # Measure the time it takes to perform a spatial query without spatial indexing\n",
    "    start_time_without_index = time.time()\n",
    "    result_without_index = gdf.cx[bounding_box[0]:bounding_box[2], bounding_box[1]:bounding_box[3]]\n",
    "    elapsed_time_without_index = time.time() - start_time_without_index\n",
    "    total_elapsed_time_without_index += elapsed_time_without_index\n",
    "\n",
    "# Calculate the average time taken over all iterations for both cases\n",
    "average_elapsed_time_with_index = total_elapsed_time_with_index / simulation_iterations\n",
    "average_elapsed_time_without_index = total_elapsed_time_without_index / simulation_iterations\n",
    "\n",
    "# Display the average spatial query times\n",
    "print(f\"Average Spatial Query Time with Spatial Indexing: {average_elapsed_time_with_index} seconds\")\n",
    "print(f\"Average Spatial Query Time without Spatial Indexing: {average_elapsed_time_without_index} seconds\")\n"
   ]
  },
  {
   "cell_type": "code",
   "execution_count": null,
   "id": "b464510b-df51-4471-af02-af32fbc2f985",
   "metadata": {},
   "outputs": [],
   "source": []
  }
 ],
 "metadata": {
  "kernelspec": {
   "display_name": "anaconda-panel-2023.05-py310",
   "language": "python",
   "name": "conda-env-anaconda-panel-2023.05-py310-py"
  },
  "language_info": {
   "codemirror_mode": {
    "name": "ipython",
    "version": 3
   },
   "file_extension": ".py",
   "mimetype": "text/x-python",
   "name": "python",
   "nbconvert_exporter": "python",
   "pygments_lexer": "ipython3",
   "version": "3.11.5"
  }
 },
 "nbformat": 4,
 "nbformat_minor": 5
}
